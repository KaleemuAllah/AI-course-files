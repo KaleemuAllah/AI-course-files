{
 "cells": [
  {
   "cell_type": "markdown",
   "metadata": {},
   "source": [
    "# **Polymorphism:**\n",
    "\n",
    "Polymorphism refers to the ability of different objects to respond to the same message or method call in different ways. In other words, polymorphism allows objects of different classes to be treated as objects of a common superclass, enabling code to be written in a generic way that can operate on objects of different types.\n",
    "There are two main types of polymorphism:\n",
    "\n",
    "1. **Compile-time Polymorphism (Static Binding)**: Also known as method overloading and operator overloading, compile-time polymorphism occurs when different implementations of a method or operator are provided for different parameter types or numbers.\n",
    "\n",
    "Example of method overloading:"
   ]
  },
  {
   "cell_type": "code",
   "execution_count": 2,
   "metadata": {},
   "outputs": [
    {
     "name": "stdout",
     "output_type": "stream",
     "text": [
      "9\n"
     ]
    }
   ],
   "source": [
    "class MathOperations:\n",
    "    def add(self, a, b):\n",
    "        return a + b\n",
    "\n",
    "    def add(self, a, b, c):\n",
    "        return a + b + c\n",
    "\n",
    "math = MathOperations()\n",
    "# print(math.add(2, 3))       # Output: Error - Second add method is overwritten\n",
    "print(math.add(2, 3, 4))    # Output: 9\n"
   ]
  },
  {
   "cell_type": "markdown",
   "metadata": {},
   "source": [
    "2. **Run-time Polymorphism (Dynamic Binding)**: Also known as method overriding, run-time polymorphism occurs when a subclass provides a specific implementation of a method that is already defined in its superclass.\n",
    "\n",
    "Example of method overriding:"
   ]
  },
  {
   "cell_type": "code",
   "execution_count": 3,
   "metadata": {},
   "outputs": [
    {
     "name": "stdout",
     "output_type": "stream",
     "text": [
      "Inside phone constructor\n",
      "Buying a smartphone\n"
     ]
    }
   ],
   "source": [
    "# Method Overriding\n",
    "class Phone:\n",
    "    def __init__(self, price, brand, camera):\n",
    "        print (\"Inside phone constructor\")\n",
    "        self.__price = price\n",
    "        self.brand = brand\n",
    "        self.camera = camera\n",
    "\n",
    "    def buy(self):\n",
    "        print (\"Buying a phone\")\n",
    "\n",
    "class SmartPhone(Phone):\n",
    "    def buy(self):\n",
    "        print (\"Buying a smartphone\")\n",
    "\n",
    "s=SmartPhone(20000, \"Apple\", 13)\n",
    "\n",
    "s.buy()"
   ]
  },
  {
   "cell_type": "markdown",
   "metadata": {},
   "source": [
    "# **Operator Overloading**:\n",
    "\n",
    "Operator overloading refers to the ability to redefine the behavior of operators such as `+`, `-`, `*`, `/`, etc., for user-defined classes. By overloading operators, objects of user-defined classes can support arithmetic, comparison, and other operations just like built-in types.\n",
    "\n",
    "Example of operator overloading:"
   ]
  },
  {
   "cell_type": "code",
   "execution_count": 9,
   "metadata": {},
   "outputs": [
    {
     "data": {
      "text/plain": [
       "'helloworld'"
      ]
     },
     "execution_count": 9,
     "metadata": {},
     "output_type": "execute_result"
    }
   ],
   "source": [
    "'hello' + 'world'"
   ]
  },
  {
   "cell_type": "code",
   "execution_count": 10,
   "metadata": {},
   "outputs": [
    {
     "data": {
      "text/plain": [
       "9"
      ]
     },
     "execution_count": 10,
     "metadata": {},
     "output_type": "execute_result"
    }
   ],
   "source": [
    "4 + 5"
   ]
  },
  {
   "cell_type": "code",
   "execution_count": 11,
   "metadata": {},
   "outputs": [
    {
     "data": {
      "text/plain": [
       "[1, 2, 3, 4, 5]"
      ]
     },
     "execution_count": 11,
     "metadata": {},
     "output_type": "execute_result"
    }
   ],
   "source": [
    "[1,2,3] + [4,5]"
   ]
  },
  {
   "cell_type": "code",
   "execution_count": 4,
   "metadata": {},
   "outputs": [
    {
     "name": "stdout",
     "output_type": "stream",
     "text": [
      "(6, 8)\n"
     ]
    }
   ],
   "source": [
    "class Vector:\n",
    "    def __init__(self, x, y):\n",
    "        self.x = x\n",
    "        self.y = y\n",
    "\n",
    "    def __add__(self, other):\n",
    "        return Vector(self.x + other.x, self.y + other.y)\n",
    "\n",
    "    def __str__(self):\n",
    "        return f\"({self.x}, {self.y})\"\n",
    "\n",
    "v1 = Vector(2, 3)\n",
    "v2 = Vector(4, 5)\n",
    "print(v1 + v2)  # Output: (6, 8)"
   ]
  },
  {
   "cell_type": "markdown",
   "metadata": {},
   "source": [
    "In this example, the `__add__()` method is overloaded to define the addition operation for objects of the `Vector` class. When `v1 + v2` is executed, Python calls the `__add__()` method of the `v1` object and passes `v2` as the `other` parameter.\n",
    "\n",
    "Polymorphism and operator overloading enhance code readability, maintainability, and expressiveness by allowing for the creation of more intuitive and concise code. They are powerful features of object-oriented programming that enable developers to write more flexible and reusable code."
   ]
  },
  {
   "cell_type": "markdown",
   "metadata": {},
   "source": [
    "# **Magic Functions/Dunder Functions**\n",
    "Magic functions, also known as dunder (double underscore) functions or special methods, are predefined methods in Python classes that have double underscores (`__`) at the beginning and end of their names. These methods allow classes to define behavior that will be invoked in response to certain language-specific operations, such as arithmetic operations, comparison operations, object creation, and more.\n",
    "\n",
    "Magic functions are often used to customize the behavior of objects and enable them to interact with operators, functions, and built-in language constructs in a way that's intuitive and consistent with Python's syntax and semantics."
   ]
  },
  {
   "cell_type": "markdown",
   "metadata": {},
   "source": [
    "# **Dynamic Polymorphism**\n",
    "Dynamic polymorphism, also known as runtime polymorphism or late binding, is a feature in object-oriented programming that allows a subclass to provide a specific implementation of a method that is already defined in its superclass. This allows for the same method name to behave differently based on the type of object calling it.\n",
    "\n",
    "Dynamic polymorphism enables a more flexible and extensible design, as it allows code to be written in a way that can operate on objects of different types without the need for explicit type checking.\n",
    "\n",
    "Here's an example to illustrate dynamic polymorphism in Python:"
   ]
  },
  {
   "cell_type": "code",
   "execution_count": 7,
   "metadata": {},
   "outputs": [
    {
     "name": "stdout",
     "output_type": "stream",
     "text": [
      "Animal makes a sound\n",
      "Dog barks\n",
      "Cat meows\n"
     ]
    }
   ],
   "source": [
    "class Animal:\n",
    "    def sound(self):\n",
    "        print(\"Animal makes a sound\")\n",
    "\n",
    "class Dog(Animal):\n",
    "    def sound(self):\n",
    "        print(\"Dog barks\")\n",
    "\n",
    "class Cat(Animal):\n",
    "    def sound(self):\n",
    "        print(\"Cat meows\")\n",
    "\n",
    "# Example of dynamic polymorphism\n",
    "def make_sound(animal):\n",
    "    animal.sound()\n",
    "\n",
    "# Create instances of different classes\n",
    "animal1 = Animal()\n",
    "animal2 = Dog()\n",
    "animal3 = Cat()\n",
    "\n",
    "# Call make_sound function with objects of different classes\n",
    "make_sound(animal1)  # Output: Animal makes a sound\n",
    "make_sound(animal2)  # Output: Dog barks\n",
    "make_sound(animal3)  # Output: Cat meows"
   ]
  },
  {
   "cell_type": "markdown",
   "metadata": {},
   "source": [
    "In this example:\n",
    "\n",
    "- We have a base class `Animal` with a method `sound()`.\n",
    "- We have two subclasses `Dog` and `Cat` that override the `sound()` method with their own implementations.\n",
    "- The `make_sound()` function takes an `Animal` object as a parameter and calls its `sound()` method.\n",
    "- When `make_sound()` is called with objects of different subclasses, the appropriate implementation of the `sound()` method is invoked based on the actual type of the object at runtime. This is dynamic polymorphism in action.\n",
    "\n",
    "Dynamic polymorphism allows for more flexible and modular code, as it allows different objects to respond to the same method call in different ways based on their specific implementations. This promotes code reuse, simplifies design, and enhances maintainability."
   ]
  },
  {
   "cell_type": "markdown",
   "metadata": {},
   "source": [
    "# **Abstract Method and Class:**\n",
    "\n",
    "In object-oriented programming, an abstract method is a method declared in a class definition, but it doesn't provide an implementation in the class itself. Instead, the implementation is expected to be provided by subclasses. Similarly, an abstract class is a class that cannot be instantiated directly and may contain one or more abstract methods. Abstract classes are designed to serve as blueprints for other classes to inherit from and provide concrete implementations for abstract methods.\n",
    "\n",
    "In Python, abstract classes can be defined using the `abc` module, which stands for Abstract Base Classes.\n",
    "\n",
    "Example of an abstract class with an abstract method in Python:"
   ]
  },
  {
   "cell_type": "code",
   "execution_count": 8,
   "metadata": {},
   "outputs": [
    {
     "name": "stdout",
     "output_type": "stream",
     "text": [
      "15\n"
     ]
    }
   ],
   "source": [
    "from abc import ABC, abstractmethod\n",
    "\n",
    "class Shape(ABC):\n",
    "    @abstractmethod\n",
    "    def area(self):\n",
    "        pass\n",
    "\n",
    "class Rectangle(Shape):\n",
    "    def __init__(self, length, width):\n",
    "        self.length = length\n",
    "        self.width = width\n",
    "\n",
    "    def area(self):\n",
    "        return self.length * self.width\n",
    "\n",
    "rectangle = Rectangle(5, 3)\n",
    "print(rectangle.area())  # Output: 15"
   ]
  },
  {
   "cell_type": "markdown",
   "metadata": {},
   "source": [
    "In this example:\n",
    "\n",
    "- `Shape` is an abstract class that defines an abstract method `area()`.\n",
    "- `Rectangle` is a subclass of `Shape` that provides a concrete implementation for the `area()` method.\n",
    "- We can instantiate objects of the `Rectangle` class and call the `area()` method, but we cannot instantiate objects of the `Shape` class directly because it's an abstract class."
   ]
  },
  {
   "cell_type": "markdown",
   "metadata": {},
   "source": [
    "# **Empty Class:**\n",
    "\n",
    "An empty class is a class that doesn't contain any attributes or methods. It serves as a placeholder or a base for future development. Empty classes are sometimes used as markers or placeholders in code, and they can be extended later to add functionality.\n",
    "\n",
    "Example of an empty class in Python:"
   ]
  },
  {
   "cell_type": "code",
   "execution_count": 8,
   "metadata": {},
   "outputs": [],
   "source": [
    "class Placeholder:\n",
    "    pass"
   ]
  },
  {
   "cell_type": "markdown",
   "metadata": {},
   "source": [
    "This class doesn't contain any attributes or methods. It can be instantiated, but it doesn't have any behavior associated with it unless additional attributes or methods are added."
   ]
  },
  {
   "cell_type": "markdown",
   "metadata": {},
   "source": [
    "# **Data Class:**\n",
    "\n",
    "A data class is a class that primarily holds data and doesn't contain any behavior (i.e., methods). Data classes are used to create simple data structures to store and manipulate data. In Python, the `dataclasses` module provides a decorator and functions for automatically adding special methods such as `__init__()`, `__repr__()`, `__eq__()`, and `__hash__()` to a class based on its attributes.\n",
    "\n",
    "Example of a data class in Python:"
   ]
  },
  {
   "cell_type": "code",
   "execution_count": 9,
   "metadata": {},
   "outputs": [
    {
     "name": "stdout",
     "output_type": "stream",
     "text": [
      "Point(x=3, y=5)\n"
     ]
    }
   ],
   "source": [
    "from dataclasses import dataclass\n",
    "\n",
    "@dataclass\n",
    "class Point:\n",
    "    x: int\n",
    "    y: int\n",
    "\n",
    "p1 = Point(3, 5)\n",
    "print(p1)  # Output: Point(x=3, y=5)"
   ]
  },
  {
   "cell_type": "markdown",
   "metadata": {},
   "source": [
    "In this example, the `@dataclass` decorator automatically generates an `__init__()`, `__repr__()`, `__eq__()`, and `__hash__()` methods based on the attributes `x` and `y`. This simplifies the creation of simple data-holding classes in Python."
   ]
  },
  {
   "cell_type": "markdown",
   "metadata": {},
   "source": [
    "# **Keyword Arguments**\n",
    "Keyword arguments are a feature in Python that allows you to pass arguments to a function using their corresponding parameter names. When calling a function, you can specify the values for parameters by explicitly mentioning the parameter names along with their values. This provides greater flexibility and clarity in function calls, especially when dealing with functions that have many parameters or default parameter values.\n",
    "\n",
    "Here's how keyword arguments work in Python:"
   ]
  },
  {
   "cell_type": "code",
   "execution_count": 11,
   "metadata": {},
   "outputs": [
    {
     "name": "stdout",
     "output_type": "stream",
     "text": [
      "Hello, Ali! How are you?\n",
      "Hello, Bob! How are you?\n"
     ]
    }
   ],
   "source": [
    "def greet(name, message):\n",
    "    print(f\"Hello, {name}! {message}\")\n",
    "\n",
    "# Using positional arguments\n",
    "greet(\"Ali\", \"How are you?\")  # Output: Hello, Ali! How are you?\n",
    "\n",
    "# Using keyword arguments\n",
    "greet(message=\"How are you?\", name=\"Bob\")  # Output: Hello, Bob! How are you?"
   ]
  },
  {
   "cell_type": "markdown",
   "metadata": {},
   "source": [
    "In this example:\n",
    "\n",
    "- The `greet()` function accepts two parameters: `name` and `message`.\n",
    "- When calling the function with positional arguments, the arguments are matched based on their order.\n",
    "- When calling the function with keyword arguments, the arguments are matched based on their names, regardless of their order.\n",
    "- Keyword arguments allow you to specify arguments in any order and skip optional arguments by providing only the values you want to change."
   ]
  }
 ],
 "metadata": {
  "kernelspec": {
   "display_name": "python_ml",
   "language": "python",
   "name": "python3"
  },
  "language_info": {
   "codemirror_mode": {
    "name": "ipython",
    "version": 3
   },
   "file_extension": ".py",
   "mimetype": "text/x-python",
   "name": "python",
   "nbconvert_exporter": "python",
   "pygments_lexer": "ipython3",
   "version": "3.11.5"
  }
 },
 "nbformat": 4,
 "nbformat_minor": 2
}
