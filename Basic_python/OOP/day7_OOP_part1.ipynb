{
  "cells": [
    {
      "cell_type": "markdown",
      "metadata": {},
      "source": [
        "# OOP(Object Oriented Programming)\n",
        "Object-Oriented Programming (OOP) is a programming paradigm that organizes software design around objects and data rather than actions and logic. It enables the creation of modular and reusable code by representing real-world entities as objects with attributes (data) and methods (functions) that operate on the data."
      ]
    },
    {
      "cell_type": "markdown",
      "metadata": {},
      "source": [
        "In object-oriented programming (OOP), classes and objects are fundamental concepts.\n",
        "\n",
        "## **Classes:** \n",
        "A class is a blueprint or template for creating objects. It defines the attributes (data members) and methods (functions) that objects of the class will have. Classes provide a way to organize and structure code by encapsulating related data and behavior.\n",
        "\n",
        "## **Objects:** \n",
        "An object is an instance of a class. It represents a specific instantiation of the class, with its own unique data values for the attributes defined in the class. Objects can also invoke the methods defined in their class to perform specific actions."
      ]
    },
    {
      "cell_type": "code",
      "execution_count": null,
      "metadata": {
        "colab": {
          "base_uri": "https://localhost:8080/",
          "height": 205
        },
        "id": "3rwuRliDnX7y",
        "outputId": "6115092b-d6f7-4ef3-91fc-4d46ca119b09"
      },
      "outputs": [],
      "source": [
        "L = [1,2,3]\n",
        "\n",
        "L.upper()"
      ]
    },
    {
      "cell_type": "code",
      "execution_count": null,
      "metadata": {
        "colab": {
          "base_uri": "https://localhost:8080/",
          "height": 187
        },
        "id": "96Kwr6nLnyDM",
        "outputId": "9845bb6f-e342-4054-d1ca-bb790b8da96d"
      },
      "outputs": [],
      "source": [
        "s = 'hello'\n",
        "s.append('x')"
      ]
    },
    {
      "cell_type": "code",
      "execution_count": null,
      "metadata": {
        "colab": {
          "base_uri": "https://localhost:8080/"
        },
        "id": "mmHow1wwn9TG",
        "outputId": "ab6a35e4-e395-4fe2-f9fb-b236eefc3526"
      },
      "outputs": [],
      "source": [
        "L = [1,2,3]\n",
        "print(type(L))"
      ]
    },
    {
      "cell_type": "code",
      "execution_count": null,
      "metadata": {
        "id": "uYaUUd8uqh8G"
      },
      "outputs": [],
      "source": [
        "s = [1,2,3]"
      ]
    },
    {
      "cell_type": "code",
      "execution_count": null,
      "metadata": {
        "id": "UrQCJI-xqkyX"
      },
      "outputs": [],
      "source": [
        "# syntax to create an object\n",
        "#objectname = classname()"
      ]
    },
    {
      "cell_type": "code",
      "execution_count": null,
      "metadata": {
        "id": "BE1pbysesWlD"
      },
      "outputs": [],
      "source": [
        "# object literal\n",
        "L = [1,2,3]"
      ]
    },
    {
      "cell_type": "code",
      "execution_count": null,
      "metadata": {
        "colab": {
          "base_uri": "https://localhost:8080/"
        },
        "id": "EuMPro8hsbB3",
        "outputId": "aad19e46-44ad-4b86-86b2-ded54a6a4a29"
      },
      "outputs": [],
      "source": [
        "L = list()\n",
        "L"
      ]
    },
    {
      "cell_type": "code",
      "execution_count": null,
      "metadata": {
        "colab": {
          "base_uri": "https://localhost:8080/",
          "height": 36
        },
        "id": "F_pB8wsPsdA9",
        "outputId": "ca758fc3-330c-4ec4-bb4f-5863c7c03d7a"
      },
      "outputs": [],
      "source": [
        "s = str()\n",
        "s"
      ]
    },
    {
      "cell_type": "code",
      "execution_count": 2,
      "metadata": {},
      "outputs": [
        {
          "name": "stdout",
          "output_type": "stream",
          "text": [
            "Kaleem is a Data Scientist and 28 years old\n"
          ]
        }
      ],
      "source": [
        "class Person:\n",
        "    name = 'Kaleem'\n",
        "    occupation = 'Data Scientist'\n",
        "    age = 28\n",
        "    def info(self):\n",
        "        print(f\"{self.name} is a {self.occupation} and {self.age} years old\")\n",
        "\n",
        "a = Person()\n",
        "a.info()"
      ]
    },
    {
      "cell_type": "code",
      "execution_count": 4,
      "metadata": {},
      "outputs": [
        {
          "name": "stdout",
          "output_type": "stream",
          "text": [
            "Kaleem is a Data Scientist and 28 years old\n",
            "Ali is a Software Developer and 30 years old\n"
          ]
        }
      ],
      "source": [
        "class Person:\n",
        "    def __init__(self, name, occupation, age):\n",
        "        self.name = name\n",
        "        self.occupation = occupation\n",
        "        self.age = age\n",
        "    def info(self):    \n",
        "        print(f\"{self.name} is a {self.occupation} and {self.age} years old\")\n",
        "\n",
        "a = Person(\"Kaleem\", \"Data Scientist\", 28)\n",
        "b = Person(\"Ali\", \"Software Developer\", 30)\n",
        "a.info()\n",
        "b.info()"
      ]
    },
    {
      "cell_type": "markdown",
      "metadata": {},
      "source": [
        "## **Instance Variables:** (Jis ki value alag alag objects ke liye alag alag hogi)\n",
        "Instance variables, also known as member variables or attributes, are properties that belong to individual objects. Each object has its own set of instance variables, which can have different values. These variables define the state of the object and are accessed using the dot notation (object.variable)."
      ]
    },
    {
      "cell_type": "code",
      "execution_count": null,
      "metadata": {},
      "outputs": [],
      "source": [
        "class Car:\n",
        "    def __init__(self, brand, model):\n",
        "        self.brand = brand  # Instance variable\n",
        "        self.model = model  # Instance variable"
      ]
    },
    {
      "cell_type": "markdown",
      "metadata": {},
      "source": [
        "In this example, brand and model are instance variables specific to each Car object."
      ]
    },
    {
      "cell_type": "markdown",
      "metadata": {},
      "source": [
        "## **Instance Methods:**\n",
        "Instance methods, also known as member methods or instance functions, are functions that operate on the instance variables of an object. They are defined within a class and are invoked on individual objects using the dot notation (object.method())."
      ]
    },
    {
      "cell_type": "code",
      "execution_count": null,
      "metadata": {},
      "outputs": [],
      "source": [
        "class Car:\n",
        "    def __init__(self, brand, model):\n",
        "        self.brand = brand\n",
        "        self.model = model\n",
        "\n",
        "    def drive(self):  # Instance method\n",
        "        print(f\"{self.brand} {self.model} is driving.\")"
      ]
    },
    {
      "cell_type": "markdown",
      "metadata": {},
      "source": [
        "Here, drive() is an instance method that operates on the brand and model instance variables of a Car object.\n",
        "\n",
        "When creating objects of a class, each object gets its own copy of instance variables, and they can be accessed and modified independently. Similarly, each object can call its instance methods, which can access and manipulate its instance variables."
      ]
    },
    {
      "cell_type": "markdown",
      "metadata": {},
      "source": [
        "## **Class Variables**:\n",
        "Class variables, also known as static variables, are variables that are shared among all instances (objects) of a class. They are defined at the class level and are accessed using the class name rather than through an instance of the class. Class variables are typically used to store data that is common to all instances of the class.\n",
        "\n",
        "For example, in a `Car` class:"
      ]
    },
    {
      "cell_type": "code",
      "execution_count": null,
      "metadata": {},
      "outputs": [],
      "source": [
        "class Car:\n",
        "    car_count = 0  # Class variable\n",
        "\n",
        "    def __init__(self, brand, model):\n",
        "        self.brand = brand\n",
        "        self.model = model\n",
        "        Car.car_count += 1  # Accessing and modifying class variable\n"
      ]
    },
    {
      "cell_type": "markdown",
      "metadata": {},
      "source": [
        "In this example, `car_count` is a class variable that keeps track of the total number of cars created.\n",
        "\n",
        "## **Class Functions**:\n",
        "Class functions, also known as static methods, are methods that are associated with the class rather than with individual instances. They are defined using the `@staticmethod` decorator in Python and do not have access to instance variables or instance methods. Class functions are often used for utility functions or operations that do not require access to instance-specific data."
      ]
    },
    {
      "cell_type": "code",
      "execution_count": null,
      "metadata": {},
      "outputs": [],
      "source": [
        "class Car:\n",
        "    car_count = 0  # Class variable\n",
        "\n",
        "    def __init__(self, brand, model):\n",
        "        self.brand = brand\n",
        "        self.model = model\n",
        "        Car.car_count += 1  # Accessing and modifying class variable\n",
        "\n",
        "    @staticmethod\n",
        "    def display_total_cars():  # Class function\n",
        "        print(f\"Total cars: {Car.car_count}\")\n"
      ]
    },
    {
      "cell_type": "markdown",
      "metadata": {},
      "source": [
        "\n",
        "Here, `display_total_cars()` is a class function that displays the total number of cars created.\n",
        "\n",
        "Class variables and functions provide a way to define data and behavior that is shared among all instances of a class. They are useful for maintaining state or performing operations that are independent of any particular instance. However, it's important to use them judiciously and understand their implications for the design and behavior of the class."
      ]
    },
    {
      "cell_type": "markdown",
      "metadata": {},
      "source": [
        "## **Constructors:**\n",
        "A constructor is a special method that is automatically called when an object is created. It is used to initialize the object's state, allocate resources, and perform any necessary setup. In many programming languages such as Python, constructors are typically named __init__().\n",
        "\n",
        "For example, in a Car class:"
      ]
    },
    {
      "cell_type": "code",
      "execution_count": null,
      "metadata": {},
      "outputs": [],
      "source": [
        "class Car:\n",
        "    def __init__(self, brand, model):\n",
        "        self.brand = brand\n",
        "        self.model = model\n",
        "        print(f\"A {self.brand} {self.model} has been created.\")"
      ]
    },
    {
      "cell_type": "markdown",
      "metadata": {},
      "source": [
        "In this example, __init__() is the constructor method. When a Car object is created, this method is automatically called to initialize the brand and model attributes.\n",
        "\n",
        "## **Destructors:**\n",
        "A destructor is a special method that is called when an object is destroyed or goes out of scope. It is used to perform cleanup tasks, release resources, and deallocate memory associated with the object. In some programming languages, such as C++, destructors are explicitly defined, while in others, such as Python, destructors are less commonly used due to automatic memory management (garbage collection). In Python, the destructor method is named __del__().\n",
        "\n",
        "For example, in the same Car class:"
      ]
    },
    {
      "cell_type": "code",
      "execution_count": null,
      "metadata": {},
      "outputs": [],
      "source": [
        "class Car:\n",
        "    def __init__(self, brand, model):\n",
        "        self.brand = brand\n",
        "        self.model = model\n",
        "        print(f\"A {self.brand} {self.model} has been created.\")\n",
        "\n",
        "    def __del__(self):\n",
        "        print(f\"The {self.brand} {self.model} has been destroyed.\")"
      ]
    },
    {
      "cell_type": "markdown",
      "metadata": {},
      "source": [
        "In this example, __del__() is the destructor method. When a Car object is destroyed, this method is automatically called to perform any necessary cleanup tasks.\n",
        "\n",
        "Constructors and destructors are important for managing the lifecycle of objects, ensuring that resources are properly initialized and released. However, it's important to use them judiciously and be aware of potential side effects, especially in languages with manual memory management. In Python, due to automatic memory management, destructors are not as commonly used, and cleanup tasks are often handled implicitly by the garbage collector."
      ]
    },
    {
      "cell_type": "markdown",
      "metadata": {},
      "source": [
        "## **Inheritance** \n",
        "Inheritance is a key concept in object-oriented programming that allows a class to inherit attributes and methods from another class. This promotes code reusability and facilitates the creation of hierarchical relationships between classes.\n",
        "\n",
        "**Inheritance:** Inheritance enables a new class (subclass or derived class) to inherit properties and behaviors (attributes and methods) from an existing class (superclass or base class). The subclass can then extend or override the inherited functionalities, and it can also introduce its own unique properties and methods.\n"
      ]
    },
    {
      "cell_type": "code",
      "execution_count": 5,
      "metadata": {},
      "outputs": [
        {
          "name": "stdout",
          "output_type": "stream",
          "text": [
            "Inside phone constructor\n",
            "Buying a phone\n"
          ]
        }
      ],
      "source": [
        "# constructor example\n",
        "\n",
        "class Phone:\n",
        "    def __init__(self, price, brand, camera):\n",
        "        print (\"Inside phone constructor\")\n",
        "        self.price = price\n",
        "        self.brand = brand\n",
        "        self.camera = camera\n",
        "\n",
        "    def buy(self):\n",
        "        print (\"Buying a phone\")\n",
        "\n",
        "class SmartPhone(Phone):\n",
        "    pass\n",
        "\n",
        "s=SmartPhone(20000, \"Apple\", 13)\n",
        "s.buy()"
      ]
    },
    {
      "cell_type": "code",
      "execution_count": 6,
      "metadata": {},
      "outputs": [
        {
          "name": "stdout",
          "output_type": "stream",
          "text": [
            "Inside SmartPhone constructor\n"
          ]
        },
        {
          "ename": "AttributeError",
          "evalue": "'SmartPhone' object has no attribute 'brand'",
          "output_type": "error",
          "traceback": [
            "\u001b[1;31m---------------------------------------------------------------------------\u001b[0m",
            "\u001b[1;31mAttributeError\u001b[0m                            Traceback (most recent call last)",
            "Cell \u001b[1;32mIn[6], line 17\u001b[0m\n\u001b[0;32m     14\u001b[0m         \u001b[38;5;28mprint\u001b[39m (\u001b[38;5;124m\"\u001b[39m\u001b[38;5;124mInside SmartPhone constructor\u001b[39m\u001b[38;5;124m\"\u001b[39m)\n\u001b[0;32m     16\u001b[0m s\u001b[38;5;241m=\u001b[39mSmartPhone(\u001b[38;5;124m\"\u001b[39m\u001b[38;5;124mAndroid\u001b[39m\u001b[38;5;124m\"\u001b[39m, \u001b[38;5;241m2\u001b[39m)\n\u001b[1;32m---> 17\u001b[0m \u001b[43ms\u001b[49m\u001b[38;5;241;43m.\u001b[39;49m\u001b[43mbrand\u001b[49m\n",
            "\u001b[1;31mAttributeError\u001b[0m: 'SmartPhone' object has no attribute 'brand'"
          ]
        }
      ],
      "source": [
        "# constructor example 2\n",
        "\n",
        "class Phone:\n",
        "    def __init__(self, price, brand, camera):\n",
        "        print (\"Inside phone constructor\")\n",
        "        self.__price = price\n",
        "        self.brand = brand\n",
        "        self.camera = camera\n",
        "\n",
        "class SmartPhone(Phone):\n",
        "    def __init__(self, os, ram):\n",
        "        self.os = os\n",
        "        self.ram = ram\n",
        "        print (\"Inside SmartPhone constructor\")\n",
        "\n",
        "s=SmartPhone(\"Android\", 2)\n",
        "s.brand\n"
      ]
    },
    {
      "cell_type": "code",
      "execution_count": 18,
      "metadata": {},
      "outputs": [
        {
          "name": "stdout",
          "output_type": "stream",
          "text": [
            "Inside phone constructor\n",
            "Apple\n"
          ]
        },
        {
          "ename": "AttributeError",
          "evalue": "'SmartPhone' object has no attribute '__price'",
          "output_type": "error",
          "traceback": [
            "\u001b[1;31m---------------------------------------------------------------------------\u001b[0m",
            "\u001b[1;31mAttributeError\u001b[0m                            Traceback (most recent call last)",
            "Cell \u001b[1;32mIn[18], line 20\u001b[0m\n\u001b[0;32m     18\u001b[0m s\u001b[38;5;241m=\u001b[39mSmartPhone(\u001b[38;5;241m20000\u001b[39m, \u001b[38;5;124m\"\u001b[39m\u001b[38;5;124mApple\u001b[39m\u001b[38;5;124m\"\u001b[39m, \u001b[38;5;241m13\u001b[39m)\n\u001b[0;32m     19\u001b[0m \u001b[38;5;28mprint\u001b[39m(s\u001b[38;5;241m.\u001b[39mbrand)\n\u001b[1;32m---> 20\u001b[0m \u001b[43ms\u001b[49m\u001b[38;5;241;43m.\u001b[39;49m\u001b[43m__price\u001b[49m()\n\u001b[0;32m     21\u001b[0m \u001b[38;5;66;03m# s.check()\u001b[39;00m\n\u001b[0;32m     22\u001b[0m \u001b[38;5;66;03m# s.show()\u001b[39;00m\n",
            "\u001b[1;31mAttributeError\u001b[0m: 'SmartPhone' object has no attribute '__price'"
          ]
        }
      ],
      "source": [
        "# child can't access private members of the class\n",
        "\n",
        "class Phone:\n",
        "    def __init__(self, price, brand, camera):\n",
        "        print (\"Inside phone constructor\")\n",
        "        self.__price = price\n",
        "        self.brand = brand\n",
        "        self.camera = camera\n",
        "\n",
        "    #getter\n",
        "    def show(self):\n",
        "        print (self.__price)\n",
        "\n",
        "class SmartPhone(Phone):\n",
        "    def check(self):\n",
        "        print(self.__price)\n",
        "\n",
        "s=SmartPhone(20000, \"Apple\", 13)\n",
        "print(s.brand)\n",
        "# s.__price()\n",
        "# s.check()\n",
        "# s.show()"
      ]
    },
    {
      "cell_type": "code",
      "execution_count": null,
      "metadata": {},
      "outputs": [],
      "source": [
        "class Phone:\n",
        "    def __init__(self, price, brand, camera):\n",
        "        print (\"Inside phone constructor\")\n",
        "        self.__price = price\n",
        "        self.brand = brand\n",
        "        self.camera = camera\n",
        "\n",
        "    def buy(self):\n",
        "        print (\"Buying a phone\")\n",
        "\n",
        "class SmartPhone(Phone):\n",
        "    def buy(self):\n",
        "        print (\"Buying a smartphone\")\n",
        "        # syntax to call parent ka buy method\n",
        "        super().buy()\n",
        "\n",
        "s=SmartPhone(20000, \"Apple\", 13)\n",
        "\n",
        "s.buy()"
      ]
    },
    {
      "cell_type": "code",
      "execution_count": null,
      "metadata": {},
      "outputs": [],
      "source": [
        "class Animal:\n",
        "    def __init__(self, species):\n",
        "        self.species = species\n",
        "\n",
        "    def make_sound(self):\n",
        "        pass  # Placeholder method\n",
        "\n",
        "class Dog(Animal):\n",
        "    def __init__(self, breed):\n",
        "        super().__init__(\"Dog\")\n",
        "        self.breed = breed\n",
        "\n",
        "    def make_sound(self):\n",
        "        return \"Woof!\"\n",
        "\n",
        "class Cat(Animal):\n",
        "    def __init__(self, breed):\n",
        "        super().__init__(\"Cat\")\n",
        "        self.breed = breed\n",
        "\n",
        "    def make_sound(self):\n",
        "        return \"Meow!\"\n",
        "\n",
        "# Usage\n",
        "dog = Dog(\"Golden Retriever\")\n",
        "print(dog.make_sound())  # Output: Woof!\n",
        "\n",
        "cat = Cat(\"Siamese\")\n",
        "print(cat.make_sound())  # Output: Meow!\n"
      ]
    },
    {
      "cell_type": "markdown",
      "metadata": {},
      "source": [
        "In this example, when an object `animal` of the `Animal` class is created, the `__init__()` method is automatically called with the value `\"Dog\"` passed as the `species` parameter. Inside the method, the `species` parameter is assigned to the `species` attribute of the object using the `self.species` syntax, initializing the state of the object."
      ]
    },
    {
      "cell_type": "markdown",
      "metadata": {},
      "source": [
        "## **Multilevel Inheritance:** \n",
        "Multilevel inheritance refers to a scenario where a subclass inherits from another subclass, creating a chain of inheritance. This means that a class can inherit properties and methods not only from its immediate superclass but also from its superclass's superclass, and so on. For example, Class A may be the superclass of Class B, and Class B may be the superclass of Class C.\n"
      ]
    },
    {
      "cell_type": "code",
      "execution_count": 8,
      "metadata": {},
      "outputs": [
        {
          "name": "stdout",
          "output_type": "stream",
          "text": [
            "Inside phone constructor\n",
            "Buying a phone\n",
            "Product customer review\n"
          ]
        }
      ],
      "source": [
        "# multilevel\n",
        "class Product:\n",
        "    def review(self):\n",
        "        print (\"Product customer review\")\n",
        "\n",
        "class Phone(Product):\n",
        "    def __init__(self, price, brand, camera):\n",
        "        print (\"Inside phone constructor\")\n",
        "        self.__price = price\n",
        "        self.brand = brand\n",
        "        self.camera = camera\n",
        "\n",
        "    def buy(self):\n",
        "        print (\"Buying a phone\")\n",
        "\n",
        "class SmartPhone(Phone):\n",
        "    pass\n",
        "\n",
        "s=SmartPhone(20000, \"Apple\", 12)\n",
        "\n",
        "s.buy()\n",
        "s.review()"
      ]
    },
    {
      "cell_type": "code",
      "execution_count": 10,
      "metadata": {},
      "outputs": [
        {
          "name": "stdout",
          "output_type": "stream",
          "text": [
            "Dog\n",
            "Golden Retriever\n",
            "Buddy\n",
            "Woof!\n"
          ]
        }
      ],
      "source": [
        "class Animal:\n",
        "    def __init__(self, species):\n",
        "        self.species = species\n",
        "\n",
        "    def sound(self):\n",
        "        return \"Animal sound\"\n",
        "\n",
        "class Dog(Animal):\n",
        "    def __init__(self, breed):\n",
        "        super().__init__(\"Dog\")\n",
        "        self.breed = breed\n",
        "\n",
        "    def sound(self):\n",
        "        return \"Woof!\"\n",
        "\n",
        "class GoldenRetriever(Dog):\n",
        "    def __init__(self, name):\n",
        "        super().__init__(\"Golden Retriever\")\n",
        "        self.name = name\n",
        "\n",
        "    def sound(self):\n",
        "        return super().sound()  # Calling superclass method\n",
        "\n",
        "# Create an instance of GoldenRetriever\n",
        "dog = GoldenRetriever(\"Buddy\")\n",
        "print(dog.species)  # Output: Dog\n",
        "print(dog.breed)    # Output: Golden Retriever\n",
        "print(dog.name)     # Output: Buddy\n",
        "print(dog.sound())  # Output: Woof!"
      ]
    },
    {
      "cell_type": "markdown",
      "metadata": {},
      "source": [
        "In this example:\n",
        "\n",
        "- We have three classes: `Animal`, `Dog`, and `GoldenRetriever`.\n",
        "- `GoldenRetriever` is a subclass of `Dog`, and `Dog` is a subclass of `Animal`. This establishes a chain of inheritance, forming a multilevel hierarchy.\n",
        "- Each class has its own constructor (`__init__` method) and additional methods.\n",
        "- The `GoldenRetriever` class inherits from `Dog`, which in turn inherits from `Animal`. Thus, `GoldenRetriever` inherits properties and methods from both `Dog` and `Animal`.\n",
        "- We create an instance of `GoldenRetriever` named \"Buddy\" and demonstrate accessing its attributes and invoking its methods.\n",
        "\n",
        "Multilevel inheritance allows for deeper specialization and customization of classes while promoting code reuse. However, it's important to use it judiciously to avoid creating overly complex class hierarchies."
      ]
    },
    {
      "cell_type": "markdown",
      "metadata": {},
      "source": [
        "## **Hierarchical Inheritance:** \n",
        "Hierarchical inheritance occurs when multiple classes inherit from the same superclass. This creates a hierarchical structure where multiple subclasses share a common base class. Each subclass inherits the properties and methods of the superclass but can also have its own additional features. For example, Class A is the superclass, and both Class B and Class C inherit from Class A."
      ]
    },
    {
      "cell_type": "code",
      "execution_count": 12,
      "metadata": {},
      "outputs": [
        {
          "name": "stdout",
          "output_type": "stream",
          "text": [
            "Inside phone constructor\n",
            "Buying a phone\n",
            "Inside phone constructor\n",
            "Buying a phone\n"
          ]
        }
      ],
      "source": [
        "# Hierarchical\n",
        "class Phone:\n",
        "    def __init__(self, price, brand, camera):\n",
        "        print (\"Inside phone constructor\")\n",
        "        self.__price = price\n",
        "        self.brand = brand\n",
        "        self.camera = camera\n",
        "\n",
        "    def buy(self):\n",
        "        print (\"Buying a phone\")\n",
        "\n",
        "class SmartPhone(Phone):\n",
        "    pass\n",
        "\n",
        "class FeaturePhone(Phone):\n",
        "    pass\n",
        "\n",
        "SmartPhone(1000,\"Apple\",\"13px\").buy()\n",
        "FeaturePhone(10,\"Lava\",\"1px\").buy()"
      ]
    },
    {
      "cell_type": "code",
      "execution_count": 13,
      "metadata": {},
      "outputs": [
        {
          "name": "stdout",
          "output_type": "stream",
          "text": [
            "Dog\n",
            "Cat\n",
            "Golden Retriever\n",
            "Siamese\n",
            "Woof!\n",
            "Meow!\n"
          ]
        }
      ],
      "source": [
        "class Animal:\n",
        "    def __init__(self, species):\n",
        "        self.species = species\n",
        "\n",
        "    def sound(self):\n",
        "        return \"Animal sound\"\n",
        "\n",
        "class Dog(Animal):\n",
        "    def __init__(self, breed):\n",
        "        super().__init__(\"Dog\")\n",
        "        self.breed = breed\n",
        "\n",
        "    def sound(self):\n",
        "        return \"Woof!\"\n",
        "\n",
        "class Cat(Animal):\n",
        "    def __init__(self, breed):\n",
        "        super().__init__(\"Cat\")\n",
        "        self.breed = breed\n",
        "\n",
        "    def sound(self):\n",
        "        return \"Meow!\"\n",
        "\n",
        "# Create instances of Dog and Cat\n",
        "dog = Dog(\"Golden Retriever\")\n",
        "cat = Cat(\"Siamese\")\n",
        "\n",
        "print(dog.species)  # Output: Dog\n",
        "print(cat.species)  # Output: Cat\n",
        "\n",
        "print(dog.breed)    # Output: Golden Retriever\n",
        "print(cat.breed)    # Output: Siamese\n",
        "\n",
        "print(dog.sound())  # Output: Woof!\n",
        "print(cat.sound())  # Output: Meow!"
      ]
    },
    {
      "cell_type": "markdown",
      "metadata": {},
      "source": [
        "In this example:\n",
        "\n",
        "- We have three classes: `Animal`, `Dog`, and `Cat`.\n",
        "- Both `Dog` and `Cat` classes are subclasses of the `Animal` class, establishing hierarchical inheritance.\n",
        "- Each subclass (`Dog` and `Cat`) inherits properties and methods from the common superclass (`Animal`), such as the `species` attribute and the `sound()` method.\n",
        "- Each subclass (`Dog` and `Cat`) also defines its own unique attributes and methods (`breed` attribute and custom `sound()` method).\n",
        "- We create instances of `Dog` and `Cat` and demonstrate accessing their attributes and invoking their methods.\n",
        "\n",
        "Hierarchical inheritance allows for multiple specialized subclasses to inherit from a common superclass, promoting code reuse and organization. It facilitates the modeling of real-world relationships where different entities share common characteristics but also have their own unique features."
      ]
    },
    {
      "cell_type": "markdown",
      "metadata": {},
      "source": [
        "## **Multiple Inheritance:** \n",
        "\n",
        "Multiple inheritance is a feature in object-oriented programming where a subclass can inherit from more than one superclass. This allows the subclass to inherit attributes and methods from multiple parent classes, enabling the combination of features from different sources.\n",
        "\n",
        "Here's an example to illustrate multiple inheritance:"
      ]
    },
    {
      "cell_type": "code",
      "execution_count": 14,
      "metadata": {},
      "outputs": [
        {
          "name": "stdout",
          "output_type": "stream",
          "text": [
            "Inside phone constructor\n",
            "Buying a phone\n",
            "Customer review\n"
          ]
        }
      ],
      "source": [
        "# Multiple\n",
        "class Phone:\n",
        "    def __init__(self, price, brand, camera):\n",
        "        print (\"Inside phone constructor\")\n",
        "        self.__price = price\n",
        "        self.brand = brand\n",
        "        self.camera = camera\n",
        "\n",
        "    def buy(self):\n",
        "        print (\"Buying a phone\")\n",
        "\n",
        "class Product:\n",
        "    def review(self):\n",
        "        print (\"Customer review\")\n",
        "\n",
        "class SmartPhone(Phone, Product):\n",
        "    pass\n",
        "\n",
        "s=SmartPhone(20000, \"Apple\", 12)\n",
        "\n",
        "s.buy()\n",
        "s.review()"
      ]
    },
    {
      "cell_type": "code",
      "execution_count": 15,
      "metadata": {},
      "outputs": [
        {
          "name": "stdout",
          "output_type": "stream",
          "text": [
            "Method A from class A\n",
            "Method B from class B\n",
            "Method C from class C\n"
          ]
        }
      ],
      "source": [
        "class A:\n",
        "    def method_a(self):\n",
        "        print(\"Method A from class A\")\n",
        "\n",
        "class B:\n",
        "    def method_b(self):\n",
        "        print(\"Method B from class B\")\n",
        "\n",
        "class C(A, B):\n",
        "    def method_c(self):\n",
        "        print(\"Method C from class C\")\n",
        "\n",
        "# Create an instance of class C\n",
        "obj_c = C()\n",
        "\n",
        "# Call methods from class A\n",
        "obj_c.method_a()  # Output: Method A from class A\n",
        "\n",
        "# Call methods from class B\n",
        "obj_c.method_b()  # Output: Method B from class B\n",
        "\n",
        "# Call methods from class C\n",
        "obj_c.method_c()  # Output: Method C from class C"
      ]
    },
    {
      "cell_type": "markdown",
      "metadata": {},
      "source": [
        "In this example:\n",
        "\n",
        "- Class `C` inherits from both classes `A` and `B`, allowing instances of class `C` to access methods from both parent classes.\n",
        "- The instance `obj_c` of class `C` can call methods `method_a()` from class `A`, `method_b()` from class `B`, and `method_c()` from class `C`.\n",
        "## **Method Resolution Order**\n",
        "Method Resolution Order (MRO) determines the order in which base classes are searched when resolving methods or attributes of a class during inheritance. It ensures that the correct method or attribute is found and used, especially in cases of multiple inheritance where there may be method or attribute conflicts between parent classes.\n",
        "\n",
        "Python uses the C3 linearization algorithm to compute the Method Resolution Order. The method resolution order can be accessed using the `__mro__` attribute or the `mro()` method of a class.\n",
        "\n",
        "Here's an example demonstrating the method resolution order:"
      ]
    },
    {
      "cell_type": "code",
      "execution_count": null,
      "metadata": {},
      "outputs": [],
      "source": [
        "# the diamond problem\n",
        "class Phone:\n",
        "    def __init__(self, price, brand, camera):\n",
        "        print (\"Inside phone constructor\")\n",
        "        self.__price = price\n",
        "        self.brand = brand\n",
        "        self.camera = camera\n",
        "\n",
        "    def buy(self):\n",
        "        print (\"Buying a phone\")\n",
        "\n",
        "class Product:\n",
        "    def buy(self):\n",
        "        print (\"Product buy method\")\n",
        "\n",
        "# Method resolution order\n",
        "class SmartPhone(Phone,Product):\n",
        "    pass\n",
        "\n",
        "s=SmartPhone(20000, \"Apple\", 12)\n",
        "\n",
        "s.buy()"
      ]
    },
    {
      "cell_type": "code",
      "execution_count": null,
      "metadata": {},
      "outputs": [],
      "source": [
        "class A:\n",
        "    pass\n",
        "\n",
        "class B(A):\n",
        "    pass\n",
        "\n",
        "class C(A):\n",
        "    pass\n",
        "\n",
        "class D(B, C):\n",
        "    pass\n",
        "\n",
        "print(D.__mro__)  # Output: (<class '__main__.D'>, <class '__main__.B'>, <class '__main__.C'>, <class '__main__.A'>, <class 'object'>)"
      ]
    },
    {
      "cell_type": "markdown",
      "metadata": {},
      "source": [
        "In this example, the method resolution order for class `D` is `(D, B, C, A, object)`, meaning that methods and attributes will be searched for first in class `D`, then in class `B`, then in class `C`, then in class `A`, and finally in the base class `object`."
      ]
    },
    {
      "cell_type": "markdown",
      "metadata": {},
      "source": [
        "## **Access Specifiers:**\n",
        "Access specifiers are keywords or conventions used in object-oriented programming languages to control the visibility and accessibility of class members (attributes and methods) from outside the class. They determine whether a class member can be accessed or modified by code outside the class.\n",
        "\n",
        "The three common access specifiers are:\n",
        "\n",
        "1. **Public**: Public members are accessible from outside the class. They can be accessed by any code that has access to the class object. In many object-oriented languages, class members are public by default if no access specifier is explicitly specified."
      ]
    },
    {
      "cell_type": "code",
      "execution_count": 16,
      "metadata": {},
      "outputs": [
        {
          "name": "stdout",
          "output_type": "stream",
          "text": [
            "Public attribute\n",
            "Public method\n"
          ]
        }
      ],
      "source": [
        "class MyClass:\n",
        "    def __init__(self):\n",
        "        self.public_attribute = \"Public attribute\"\n",
        "\n",
        "    def public_method(self):\n",
        "        return \"Public method\"\n",
        "\n",
        "obj = MyClass()\n",
        "print(obj.public_attribute)  # Accessing public attribute\n",
        "print(obj.public_method())    # Accessing public method"
      ]
    },
    {
      "cell_type": "markdown",
      "metadata": {},
      "source": [
        "2. **Private:** Private members are only accessible within the class in which they are defined. They cannot be accessed or modified from outside the class, not even by its subclasses. In many languages, private members are indicated by prefixing the member name with an underscore (_). However, it's more of a convention than enforced by the language itself.\n",
        "\n",
        "Example (Python):"
      ]
    },
    {
      "cell_type": "code",
      "execution_count": null,
      "metadata": {},
      "outputs": [],
      "source": [
        "class MyClass:\n",
        "    def __init__(self):\n",
        "        self.public_attribute = \"Public attribute\"\n",
        "\n",
        "    def public_method(self):\n",
        "        return \"Public method\"\n",
        "\n",
        "obj = MyClass()\n",
        "print(obj.public_attribute)  # Accessing public attribute\n",
        "print(obj.public_method())    # Accessing public method\n"
      ]
    },
    {
      "cell_type": "markdown",
      "metadata": {},
      "source": [
        "3. **Protected:** Protected members are accessible within the class in which they are defined and its subclasses. They cannot be accessed from outside the class hierarchy. In many languages, protected members are indicated by prefixing the member name with a double underscore (__). However, like private members, it's more of a convention than strictly enforced.\n",
        "\n",
        "Example (Python):"
      ]
    },
    {
      "cell_type": "code",
      "execution_count": 19,
      "metadata": {},
      "outputs": [
        {
          "ename": "AttributeError",
          "evalue": "'Subclass' object has no attribute '_Subclass__protected_attribute'",
          "output_type": "error",
          "traceback": [
            "\u001b[1;31m---------------------------------------------------------------------------\u001b[0m",
            "\u001b[1;31mAttributeError\u001b[0m                            Traceback (most recent call last)",
            "Cell \u001b[1;32mIn[19], line 15\u001b[0m\n\u001b[0;32m     12\u001b[0m         \u001b[38;5;28mprint\u001b[39m(\u001b[38;5;28mself\u001b[39m\u001b[38;5;241m.\u001b[39m__protected_method())\n\u001b[0;32m     14\u001b[0m obj \u001b[38;5;241m=\u001b[39m Subclass()\n\u001b[1;32m---> 15\u001b[0m \u001b[43mobj\u001b[49m\u001b[38;5;241;43m.\u001b[39;49m\u001b[43mdisplay_protected\u001b[49m\u001b[43m(\u001b[49m\u001b[43m)\u001b[49m  \u001b[38;5;66;03m# Accessing protected attribute and method from subclass\u001b[39;00m\n",
            "Cell \u001b[1;32mIn[19], line 11\u001b[0m, in \u001b[0;36mSubclass.display_protected\u001b[1;34m(self)\u001b[0m\n\u001b[0;32m      9\u001b[0m \u001b[38;5;28;01mdef\u001b[39;00m \u001b[38;5;21mdisplay_protected\u001b[39m(\u001b[38;5;28mself\u001b[39m):\n\u001b[0;32m     10\u001b[0m     \u001b[38;5;66;03m# Accessing protected attribute and method from subclass\u001b[39;00m\n\u001b[1;32m---> 11\u001b[0m     \u001b[38;5;28mprint\u001b[39m(\u001b[38;5;28;43mself\u001b[39;49m\u001b[38;5;241;43m.\u001b[39;49m\u001b[43m__protected_attribute\u001b[49m)\n\u001b[0;32m     12\u001b[0m     \u001b[38;5;28mprint\u001b[39m(\u001b[38;5;28mself\u001b[39m\u001b[38;5;241m.\u001b[39m__protected_method())\n",
            "\u001b[1;31mAttributeError\u001b[0m: 'Subclass' object has no attribute '_Subclass__protected_attribute'"
          ]
        }
      ],
      "source": [
        "class MyClass:\n",
        "    def __init__(self):\n",
        "        self.__protected_attribute = \"Protected attribute\"\n",
        "\n",
        "    def __protected_method(self):\n",
        "        return \"Protected method\"\n",
        "\n",
        "class Subclass(MyClass):\n",
        "    def display_protected(self):\n",
        "        # Accessing protected attribute and method from subclass\n",
        "        print(self.__protected_attribute)\n",
        "        print(self.__protected_method())\n",
        "\n",
        "obj = Subclass()\n",
        "obj.display_protected()  # Accessing protected attribute and method from subclass"
      ]
    },
    {
      "cell_type": "markdown",
      "metadata": {},
      "source": [
        "Access specifiers help in encapsulating the implementation details of a class, promoting data hiding, and preventing unintended access or modification of class members. However, in many languages, like Python, they are more about convention and developer discipline rather than strict enforcement by the language itself."
      ]
    },
    {
      "cell_type": "markdown",
      "metadata": {},
      "source": [
        "## **Name Mangling:** \n",
        "Name mangling is a technique used in some object-oriented programming languages, such as Python, to change the name of variables and methods in a way that makes them less likely to be accidentally overridden in subclasses.\n",
        "\n",
        "In Python, name mangling is achieved by prefixing the name of a variable or method with double underscores (__). When name mangling is applied, the interpreter automatically renames the variable or method by adding the class name as a prefix.\n",
        "\n",
        "Here's how name mangling works in Python:"
      ]
    },
    {
      "cell_type": "code",
      "execution_count": 21,
      "metadata": {},
      "outputs": [
        {
          "name": "stdout",
          "output_type": "stream",
          "text": [
            "10\n",
            "Private method\n"
          ]
        }
      ],
      "source": [
        "class MyClass:\n",
        "    def __init__(self):\n",
        "        self.__private_variable = 10\n",
        "\n",
        "    def __private_method(self):\n",
        "        return \"Private method\"\n",
        "\n",
        "# Accessing private variable and method with name mangling\n",
        "obj = MyClass()\n",
        "print(obj._MyClass__private_variable)  # Output: 10\n",
        "print(obj._MyClass__private_method())  # Output: Private method"
      ]
    },
    {
      "cell_type": "markdown",
      "metadata": {},
      "source": [
        "In this example:\n",
        "\n",
        "- The variables `__private_variable` and `__private_method` are private to the `MyClass` class due to name mangling.\n",
        "- When name mangling is applied, the variable and method names are prefixed with `_MyClass`, where `MyClass` is the name of the class where they are defined.\n",
        "- To access a mangled variable or method from outside the class, the name must be prefixed with `_MyClass`.\n",
        "- Name mangling helps prevent accidental access or overriding of private members in subclasses, as the mangled names are less likely to collide with names in subclasses.\n",
        "\n",
        "It's important to note that name mangling is not intended for security purposes, as it's still possible to access mangled names with the proper prefix. Instead, it's primarily used to avoid accidental conflicts and to clearly indicate that a variable or method is intended to be private to the class."
      ]
    },
    {
      "cell_type": "markdown",
      "metadata": {},
      "source": [
        "## **Inner/Nested Class:** \n",
        "In object-oriented programming, an inner class, also known as a nested class, is a class defined within another class. Inner classes are a way to logically group classes together when one class should only be used in the context of another class.\n",
        "\n",
        "Here's an example of an inner class in Python:"
      ]
    },
    {
      "cell_type": "code",
      "execution_count": 22,
      "metadata": {},
      "outputs": [
        {
          "name": "stdout",
          "output_type": "stream",
          "text": [
            "Outer variable\n",
            "Outer method\n",
            "Inner variable\n",
            "Inner method\n"
          ]
        }
      ],
      "source": [
        "class OuterClass:\n",
        "    def __init__(self):\n",
        "        self.outer_var = \"Outer variable\"\n",
        "\n",
        "    def outer_method(self):\n",
        "        print(\"Outer method\")\n",
        "\n",
        "    class InnerClass:\n",
        "        def __init__(self):\n",
        "            self.inner_var = \"Inner variable\"\n",
        "\n",
        "        def inner_method(self):\n",
        "            print(\"Inner method\")\n",
        "\n",
        "# Creating an instance of the outer class\n",
        "outer_obj = OuterClass()\n",
        "\n",
        "# Accessing outer class variable and method\n",
        "print(outer_obj.outer_var)  # Output: Outer variable\n",
        "outer_obj.outer_method()    # Output: Outer method\n",
        "\n",
        "# Creating an instance of the inner class\n",
        "inner_obj = outer_obj.InnerClass()\n",
        "\n",
        "# Accessing inner class variable and method\n",
        "print(inner_obj.inner_var)  # Output: Inner variable\n",
        "inner_obj.inner_method()    # Output: Inner method\n"
      ]
    },
    {
      "cell_type": "markdown",
      "metadata": {},
      "source": [
        "In this example:\n",
        "\n",
        "- `InnerClass` is defined within `OuterClass`.\n",
        "- `InnerClass` can access the attributes and methods of `OuterClass` because it is defined within its scope.\n",
        "- `InnerClass` can also be instantiated from an instance of `OuterClass`.\n",
        "- `InnerClass` can access its own attributes and methods independently of `OuterClass`.\n",
        "\n",
        "Inner classes are useful for organizing and encapsulating related classes, especially when the inner class is closely related to the outer class and not needed outside of it. They can also be used to logically group related classes together, improving code organization and readability. However, inner classes should be used judiciously, and their use should be justified based on the specific requirements of the application."
      ]
    },
    {
      "cell_type": "markdown",
      "metadata": {},
      "source": [
        "Association, aggregation, and composition are concepts in object-oriented programming (OOP) that describe relationships between classes and objects.\n",
        "\n",
        "**Association**:\n",
        "Association represents a relationship between two or more classes where objects of one class are aware of objects of another class. It's a loosely coupled relationship where each class remains independent of the other. Associations can be one-to-one, one-to-many, or many-to-many.\n",
        "\n",
        "Example: A `Teacher` class and a `Student` class have an association, where a teacher teaches multiple students. The `Teacher` class may have a list of students as an attribute.\n",
        "\n",
        "**Aggregation**:\n",
        "Aggregation is a form of association where one class (the whole) contains references to other classes (the parts) but does not own them. It represents a \"has-a\" relationship where the contained objects can exist independently of the container. Aggregation implies a weaker relationship compared to composition.\n",
        "\n",
        "Example: A `Department` class contains references to multiple `Employee` objects. The employees exist independently of the department and can belong to other departments.\n",
        "\n",
        "**Composition**:\n",
        "Composition is a stronger form of aggregation where the contained objects are owned by the container and have their lifecycles managed by the container. It represents a \"contains-a\" relationship, implying strong ownership and responsibility. When the container is destroyed, its contained objects are also destroyed.\n",
        "\n",
        "Example: A `House` class contains references to multiple `Room` objects. The rooms are part of the house and cannot exist independently. When the house is destroyed, all its rooms are also destroyed.\n",
        "\n",
        "In summary:\n",
        "\n",
        "- **Association** represents a relationship between classes where objects of one class are aware of objects of another class.\n",
        "- **Aggregation** represents a \"has-a\" relationship where one class contains references to other classes, but the contained objects can exist independently.\n",
        "- **Composition** represents a \"contains-a\" relationship where one class owns and manages the lifecycle of the contained objects."
      ]
    }
  ],
  "metadata": {
    "colab": {
      "provenance": []
    },
    "kernelspec": {
      "display_name": "Python 3",
      "name": "python3"
    },
    "language_info": {
      "codemirror_mode": {
        "name": "ipython",
        "version": 3
      },
      "file_extension": ".py",
      "mimetype": "text/x-python",
      "name": "python",
      "nbconvert_exporter": "python",
      "pygments_lexer": "ipython3",
      "version": "3.11.5"
    }
  },
  "nbformat": 4,
  "nbformat_minor": 0
}
