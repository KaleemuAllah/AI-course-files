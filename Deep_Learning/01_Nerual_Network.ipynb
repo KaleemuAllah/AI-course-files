{
  "nbformat": 4,
  "nbformat_minor": 0,
  "metadata": {
    "colab": {
      "provenance": [],
      "gpuType": "T4"
    },
    "kernelspec": {
      "name": "python3",
      "display_name": "Python 3"
    },
    "language_info": {
      "name": "python"
    },
    "accelerator": "GPU"
  },
  "cells": [
    {
      "cell_type": "code",
      "execution_count": 1,
      "metadata": {
        "id": "d1e-0TSJ_egz"
      },
      "outputs": [],
      "source": [
        "# Import libraries\n",
        "import numpy as np\n",
        "import tensorflow as tf\n",
        "from sklearn.datasets import load_iris\n",
        "from sklearn.model_selection import train_test_split\n",
        "from sklearn.preprocessing import StandardScaler"
      ]
    },
    {
      "cell_type": "code",
      "source": [
        "iris = load_iris()\n",
        "X = iris['data']\n",
        "y = iris['target']"
      ],
      "metadata": {
        "id": "laoULN8PAJi_"
      },
      "execution_count": 2,
      "outputs": []
    },
    {
      "cell_type": "code",
      "source": [
        "X_train, X_test, y_train, y_test = train_test_split(X, y, test_size=0.2, random_state=42)"
      ],
      "metadata": {
        "id": "BXQ02LyYAaf1"
      },
      "execution_count": 3,
      "outputs": []
    },
    {
      "cell_type": "code",
      "source": [
        "scaler = StandardScaler()\n",
        "X_train = scaler.fit_transform(X_train)\n",
        "X_test = scaler.transform(X_test)"
      ],
      "metadata": {
        "id": "TqMUlageAc7Z"
      },
      "execution_count": 4,
      "outputs": []
    },
    {
      "cell_type": "code",
      "source": [
        "model = tf.keras.models.Sequential([\n",
        "    tf.keras.layers.Dense(10, activation='relu', input_shape=(4,)),\n",
        "    tf.keras.layers.Dense(10, activation='relu'),\n",
        "    tf.keras.layers.Dense(3, activation='softmax')\n",
        "])"
      ],
      "metadata": {
        "id": "_oEsRCP4AfTM"
      },
      "execution_count": 5,
      "outputs": []
    },
    {
      "cell_type": "code",
      "source": [
        "model.compile(optimizer='adam',\n",
        "              loss='sparse_categorical_crossentropy',\n",
        "              metrics=['accuracy'])"
      ],
      "metadata": {
        "id": "qtF9LZcyA_2F"
      },
      "execution_count": 6,
      "outputs": []
    },
    {
      "cell_type": "code",
      "source": [
        "model.fit(X_train, y_train, epochs=70, validation_split=0.2)"
      ],
      "metadata": {
        "colab": {
          "base_uri": "https://localhost:8080/"
        },
        "id": "_dqYw3n2BF1l",
        "outputId": "91a3d1e6-85d8-41d5-aa93-218ce438f286"
      },
      "execution_count": 7,
      "outputs": [
        {
          "output_type": "stream",
          "name": "stdout",
          "text": [
            "Epoch 1/70\n",
            "3/3 [==============================] - 6s 436ms/step - loss: 1.0946 - accuracy: 0.1979 - val_loss: 1.0977 - val_accuracy: 0.1250\n",
            "Epoch 2/70\n",
            "3/3 [==============================] - 0s 38ms/step - loss: 1.0769 - accuracy: 0.2396 - val_loss: 1.0788 - val_accuracy: 0.1667\n",
            "Epoch 3/70\n",
            "3/3 [==============================] - 0s 55ms/step - loss: 1.0576 - accuracy: 0.3125 - val_loss: 1.0608 - val_accuracy: 0.2083\n",
            "Epoch 4/70\n",
            "3/3 [==============================] - 0s 55ms/step - loss: 1.0394 - accuracy: 0.3646 - val_loss: 1.0435 - val_accuracy: 0.3333\n",
            "Epoch 5/70\n",
            "3/3 [==============================] - 0s 70ms/step - loss: 1.0234 - accuracy: 0.4271 - val_loss: 1.0261 - val_accuracy: 0.5833\n",
            "Epoch 6/70\n",
            "3/3 [==============================] - 0s 73ms/step - loss: 1.0057 - accuracy: 0.5625 - val_loss: 1.0094 - val_accuracy: 0.6667\n",
            "Epoch 7/70\n",
            "3/3 [==============================] - 0s 41ms/step - loss: 0.9893 - accuracy: 0.5833 - val_loss: 0.9929 - val_accuracy: 0.7083\n",
            "Epoch 8/70\n",
            "3/3 [==============================] - 0s 57ms/step - loss: 0.9730 - accuracy: 0.6250 - val_loss: 0.9767 - val_accuracy: 0.7083\n",
            "Epoch 9/70\n",
            "3/3 [==============================] - 0s 76ms/step - loss: 0.9576 - accuracy: 0.6458 - val_loss: 0.9604 - val_accuracy: 0.7083\n",
            "Epoch 10/70\n",
            "3/3 [==============================] - 0s 102ms/step - loss: 0.9429 - accuracy: 0.6771 - val_loss: 0.9449 - val_accuracy: 0.7083\n",
            "Epoch 11/70\n",
            "3/3 [==============================] - 0s 69ms/step - loss: 0.9278 - accuracy: 0.6771 - val_loss: 0.9296 - val_accuracy: 0.7083\n",
            "Epoch 12/70\n",
            "3/3 [==============================] - 0s 42ms/step - loss: 0.9127 - accuracy: 0.6875 - val_loss: 0.9140 - val_accuracy: 0.7500\n",
            "Epoch 13/70\n",
            "3/3 [==============================] - 0s 38ms/step - loss: 0.8977 - accuracy: 0.6875 - val_loss: 0.8986 - val_accuracy: 0.7500\n",
            "Epoch 14/70\n",
            "3/3 [==============================] - 0s 63ms/step - loss: 0.8836 - accuracy: 0.7083 - val_loss: 0.8834 - val_accuracy: 0.7500\n",
            "Epoch 15/70\n",
            "3/3 [==============================] - 0s 68ms/step - loss: 0.8693 - accuracy: 0.7083 - val_loss: 0.8691 - val_accuracy: 0.7500\n",
            "Epoch 16/70\n",
            "3/3 [==============================] - 0s 41ms/step - loss: 0.8552 - accuracy: 0.7083 - val_loss: 0.8544 - val_accuracy: 0.7917\n",
            "Epoch 17/70\n",
            "3/3 [==============================] - 0s 49ms/step - loss: 0.8411 - accuracy: 0.7083 - val_loss: 0.8402 - val_accuracy: 0.7917\n",
            "Epoch 18/70\n",
            "3/3 [==============================] - 0s 44ms/step - loss: 0.8273 - accuracy: 0.7083 - val_loss: 0.8257 - val_accuracy: 0.7917\n",
            "Epoch 19/70\n",
            "3/3 [==============================] - 0s 33ms/step - loss: 0.8138 - accuracy: 0.7083 - val_loss: 0.8117 - val_accuracy: 0.7917\n",
            "Epoch 20/70\n",
            "3/3 [==============================] - 0s 57ms/step - loss: 0.8001 - accuracy: 0.7083 - val_loss: 0.7977 - val_accuracy: 0.7917\n",
            "Epoch 21/70\n",
            "3/3 [==============================] - 0s 66ms/step - loss: 0.7868 - accuracy: 0.7083 - val_loss: 0.7838 - val_accuracy: 0.7917\n",
            "Epoch 22/70\n",
            "3/3 [==============================] - 0s 33ms/step - loss: 0.7730 - accuracy: 0.7188 - val_loss: 0.7700 - val_accuracy: 0.7917\n",
            "Epoch 23/70\n",
            "3/3 [==============================] - 0s 36ms/step - loss: 0.7603 - accuracy: 0.7188 - val_loss: 0.7565 - val_accuracy: 0.7917\n",
            "Epoch 24/70\n",
            "3/3 [==============================] - 0s 109ms/step - loss: 0.7473 - accuracy: 0.7188 - val_loss: 0.7433 - val_accuracy: 0.7917\n",
            "Epoch 25/70\n",
            "3/3 [==============================] - 0s 46ms/step - loss: 0.7346 - accuracy: 0.7188 - val_loss: 0.7308 - val_accuracy: 0.7917\n",
            "Epoch 26/70\n",
            "3/3 [==============================] - 0s 35ms/step - loss: 0.7222 - accuracy: 0.7188 - val_loss: 0.7182 - val_accuracy: 0.7917\n",
            "Epoch 27/70\n",
            "3/3 [==============================] - 0s 40ms/step - loss: 0.7101 - accuracy: 0.7188 - val_loss: 0.7058 - val_accuracy: 0.8333\n",
            "Epoch 28/70\n",
            "3/3 [==============================] - 0s 48ms/step - loss: 0.6982 - accuracy: 0.7188 - val_loss: 0.6941 - val_accuracy: 0.8333\n",
            "Epoch 29/70\n",
            "3/3 [==============================] - 0s 41ms/step - loss: 0.6867 - accuracy: 0.7188 - val_loss: 0.6829 - val_accuracy: 0.8333\n",
            "Epoch 30/70\n",
            "3/3 [==============================] - 0s 73ms/step - loss: 0.6754 - accuracy: 0.7188 - val_loss: 0.6716 - val_accuracy: 0.8333\n",
            "Epoch 31/70\n",
            "3/3 [==============================] - 0s 43ms/step - loss: 0.6646 - accuracy: 0.7188 - val_loss: 0.6605 - val_accuracy: 0.8333\n",
            "Epoch 32/70\n",
            "3/3 [==============================] - 0s 34ms/step - loss: 0.6541 - accuracy: 0.7188 - val_loss: 0.6500 - val_accuracy: 0.8333\n",
            "Epoch 33/70\n",
            "3/3 [==============================] - 0s 49ms/step - loss: 0.6440 - accuracy: 0.7188 - val_loss: 0.6397 - val_accuracy: 0.8333\n",
            "Epoch 34/70\n",
            "3/3 [==============================] - 0s 33ms/step - loss: 0.6339 - accuracy: 0.7188 - val_loss: 0.6300 - val_accuracy: 0.8333\n",
            "Epoch 35/70\n",
            "3/3 [==============================] - 0s 35ms/step - loss: 0.6244 - accuracy: 0.7188 - val_loss: 0.6206 - val_accuracy: 0.8333\n",
            "Epoch 36/70\n",
            "3/3 [==============================] - 0s 54ms/step - loss: 0.6152 - accuracy: 0.7292 - val_loss: 0.6115 - val_accuracy: 0.8333\n",
            "Epoch 37/70\n",
            "3/3 [==============================] - 0s 32ms/step - loss: 0.6062 - accuracy: 0.7396 - val_loss: 0.6027 - val_accuracy: 0.8333\n",
            "Epoch 38/70\n",
            "3/3 [==============================] - 0s 25ms/step - loss: 0.5977 - accuracy: 0.7500 - val_loss: 0.5944 - val_accuracy: 0.8333\n",
            "Epoch 39/70\n",
            "3/3 [==============================] - 0s 63ms/step - loss: 0.5895 - accuracy: 0.7500 - val_loss: 0.5867 - val_accuracy: 0.8333\n",
            "Epoch 40/70\n",
            "3/3 [==============================] - 0s 59ms/step - loss: 0.5816 - accuracy: 0.7500 - val_loss: 0.5789 - val_accuracy: 0.8333\n",
            "Epoch 41/70\n",
            "3/3 [==============================] - 0s 21ms/step - loss: 0.5738 - accuracy: 0.7500 - val_loss: 0.5716 - val_accuracy: 0.8333\n",
            "Epoch 42/70\n",
            "3/3 [==============================] - 0s 16ms/step - loss: 0.5666 - accuracy: 0.7500 - val_loss: 0.5646 - val_accuracy: 0.8333\n",
            "Epoch 43/70\n",
            "3/3 [==============================] - 0s 16ms/step - loss: 0.5595 - accuracy: 0.7500 - val_loss: 0.5579 - val_accuracy: 0.8333\n",
            "Epoch 44/70\n",
            "3/3 [==============================] - 0s 15ms/step - loss: 0.5526 - accuracy: 0.7500 - val_loss: 0.5513 - val_accuracy: 0.8333\n",
            "Epoch 45/70\n",
            "3/3 [==============================] - 0s 18ms/step - loss: 0.5458 - accuracy: 0.7500 - val_loss: 0.5453 - val_accuracy: 0.8333\n",
            "Epoch 46/70\n",
            "3/3 [==============================] - 0s 15ms/step - loss: 0.5396 - accuracy: 0.7604 - val_loss: 0.5398 - val_accuracy: 0.8333\n",
            "Epoch 47/70\n",
            "3/3 [==============================] - 0s 15ms/step - loss: 0.5334 - accuracy: 0.7708 - val_loss: 0.5344 - val_accuracy: 0.8333\n",
            "Epoch 48/70\n",
            "3/3 [==============================] - 0s 15ms/step - loss: 0.5275 - accuracy: 0.7708 - val_loss: 0.5291 - val_accuracy: 0.8333\n",
            "Epoch 49/70\n",
            "3/3 [==============================] - 0s 15ms/step - loss: 0.5218 - accuracy: 0.7708 - val_loss: 0.5244 - val_accuracy: 0.8333\n",
            "Epoch 50/70\n",
            "3/3 [==============================] - 0s 15ms/step - loss: 0.5163 - accuracy: 0.7708 - val_loss: 0.5197 - val_accuracy: 0.8333\n",
            "Epoch 51/70\n",
            "3/3 [==============================] - 0s 15ms/step - loss: 0.5109 - accuracy: 0.7812 - val_loss: 0.5152 - val_accuracy: 0.7917\n",
            "Epoch 52/70\n",
            "3/3 [==============================] - 0s 15ms/step - loss: 0.5056 - accuracy: 0.7917 - val_loss: 0.5105 - val_accuracy: 0.7917\n",
            "Epoch 53/70\n",
            "3/3 [==============================] - 0s 27ms/step - loss: 0.5007 - accuracy: 0.7917 - val_loss: 0.5063 - val_accuracy: 0.7917\n",
            "Epoch 54/70\n",
            "3/3 [==============================] - 0s 27ms/step - loss: 0.4959 - accuracy: 0.7917 - val_loss: 0.5021 - val_accuracy: 0.7917\n",
            "Epoch 55/70\n",
            "3/3 [==============================] - 0s 31ms/step - loss: 0.4911 - accuracy: 0.7917 - val_loss: 0.4979 - val_accuracy: 0.7917\n",
            "Epoch 56/70\n",
            "3/3 [==============================] - 0s 29ms/step - loss: 0.4866 - accuracy: 0.7917 - val_loss: 0.4939 - val_accuracy: 0.7917\n",
            "Epoch 57/70\n",
            "3/3 [==============================] - 0s 31ms/step - loss: 0.4822 - accuracy: 0.8021 - val_loss: 0.4896 - val_accuracy: 0.7917\n",
            "Epoch 58/70\n",
            "3/3 [==============================] - 0s 32ms/step - loss: 0.4778 - accuracy: 0.8021 - val_loss: 0.4857 - val_accuracy: 0.7917\n",
            "Epoch 59/70\n",
            "3/3 [==============================] - 0s 29ms/step - loss: 0.4738 - accuracy: 0.8021 - val_loss: 0.4822 - val_accuracy: 0.7917\n",
            "Epoch 60/70\n",
            "3/3 [==============================] - 0s 31ms/step - loss: 0.4696 - accuracy: 0.8229 - val_loss: 0.4789 - val_accuracy: 0.7917\n",
            "Epoch 61/70\n",
            "3/3 [==============================] - 0s 34ms/step - loss: 0.4656 - accuracy: 0.8438 - val_loss: 0.4753 - val_accuracy: 0.7917\n",
            "Epoch 62/70\n",
            "3/3 [==============================] - 0s 30ms/step - loss: 0.4618 - accuracy: 0.8438 - val_loss: 0.4721 - val_accuracy: 0.7917\n",
            "Epoch 63/70\n",
            "3/3 [==============================] - 0s 24ms/step - loss: 0.4581 - accuracy: 0.8438 - val_loss: 0.4689 - val_accuracy: 0.7917\n",
            "Epoch 64/70\n",
            "3/3 [==============================] - 0s 23ms/step - loss: 0.4544 - accuracy: 0.8438 - val_loss: 0.4658 - val_accuracy: 0.7917\n",
            "Epoch 65/70\n",
            "3/3 [==============================] - 0s 30ms/step - loss: 0.4508 - accuracy: 0.8438 - val_loss: 0.4630 - val_accuracy: 0.7917\n",
            "Epoch 66/70\n",
            "3/3 [==============================] - 0s 32ms/step - loss: 0.4472 - accuracy: 0.8542 - val_loss: 0.4597 - val_accuracy: 0.7917\n",
            "Epoch 67/70\n",
            "3/3 [==============================] - 0s 22ms/step - loss: 0.4437 - accuracy: 0.8542 - val_loss: 0.4573 - val_accuracy: 0.7917\n",
            "Epoch 68/70\n",
            "3/3 [==============================] - 0s 29ms/step - loss: 0.4404 - accuracy: 0.8542 - val_loss: 0.4548 - val_accuracy: 0.7917\n",
            "Epoch 69/70\n",
            "3/3 [==============================] - 0s 22ms/step - loss: 0.4369 - accuracy: 0.8542 - val_loss: 0.4524 - val_accuracy: 0.7917\n",
            "Epoch 70/70\n",
            "3/3 [==============================] - 0s 30ms/step - loss: 0.4338 - accuracy: 0.8542 - val_loss: 0.4498 - val_accuracy: 0.8333\n"
          ]
        },
        {
          "output_type": "execute_result",
          "data": {
            "text/plain": [
              "<keras.src.callbacks.History at 0x79f4b8f16f20>"
            ]
          },
          "metadata": {},
          "execution_count": 7
        }
      ]
    },
    {
      "cell_type": "code",
      "source": [
        "loss, accuracy = model.evaluate(X_test, y_test)\n",
        "print(\"Test accuracy: {:.2f}%\".format(accuracy * 100))"
      ],
      "metadata": {
        "colab": {
          "base_uri": "https://localhost:8080/"
        },
        "id": "BBm1F2qhBLfa",
        "outputId": "16af1584-2f05-40bd-d543-4c99ec64032e"
      },
      "execution_count": 8,
      "outputs": [
        {
          "output_type": "stream",
          "name": "stdout",
          "text": [
            "1/1 [==============================] - 0s 34ms/step - loss: 0.3781 - accuracy: 0.8667\n",
            "Test accuracy: 86.67%\n"
          ]
        }
      ]
    },
    {
      "cell_type": "code",
      "source": [
        "import tensorflow as tf\n",
        "from tensorflow.keras import layers, models\n",
        "from tensorflow.keras.datasets import mnist"
      ],
      "metadata": {
        "id": "tIki2J86BTFz"
      },
      "execution_count": 9,
      "outputs": []
    },
    {
      "cell_type": "code",
      "source": [
        "# Load the MNIST dataset\n",
        "(train_images, train_labels), (test_images, test_labels) = mnist.load_data()"
      ],
      "metadata": {
        "colab": {
          "base_uri": "https://localhost:8080/"
        },
        "id": "lrIN2KEvCmgy",
        "outputId": "82812ca0-3331-4fc4-ec31-238ca5a49ca7"
      },
      "execution_count": 10,
      "outputs": [
        {
          "output_type": "stream",
          "name": "stdout",
          "text": [
            "Downloading data from https://storage.googleapis.com/tensorflow/tf-keras-datasets/mnist.npz\n",
            "11490434/11490434 [==============================] - 0s 0us/step\n"
          ]
        }
      ]
    },
    {
      "cell_type": "code",
      "source": [
        "# Preprocess the data\n",
        "train_images = train_images.reshape((60000, 28, 28, 1)).astype('float32') / 255\n",
        "test_images = test_images.reshape((10000, 28, 28, 1)).astype('float32') / 255"
      ],
      "metadata": {
        "id": "0C_S65izCzA0"
      },
      "execution_count": 11,
      "outputs": []
    },
    {
      "cell_type": "code",
      "source": [
        "# Convert labels to one-hot encoding\n",
        "train_labels = tf.keras.utils.to_categorical(train_labels)\n",
        "test_labels = tf.keras.utils.to_categorical(test_labels)"
      ],
      "metadata": {
        "id": "8mKe0zaoDNQ_"
      },
      "execution_count": 12,
      "outputs": []
    },
    {
      "cell_type": "code",
      "source": [
        "# Build the neural network model\n",
        "model = models.Sequential([\n",
        "    layers.Conv2D(32, (3, 3), activation='relu', input_shape=(28, 28, 1)),\n",
        "    layers.MaxPooling2D((2, 2)),\n",
        "    layers.Conv2D(64, (3, 3), activation='relu'),\n",
        "    layers.MaxPooling2D((2, 2)),\n",
        "    layers.Conv2D(64, (3, 3), activation='relu'),\n",
        "    layers.Flatten(),\n",
        "    layers.Dense(64, activation='relu'),\n",
        "    layers.Dense(10, activation='softmax')\n",
        "])"
      ],
      "metadata": {
        "id": "VVPiposHDRCH"
      },
      "execution_count": 13,
      "outputs": []
    },
    {
      "cell_type": "code",
      "source": [
        "# Compile the model\n",
        "model.compile(optimizer='adam',\n",
        "              loss='categorical_crossentropy',\n",
        "              metrics=['accuracy'])"
      ],
      "metadata": {
        "id": "ol5z9MQ3Dc00"
      },
      "execution_count": 14,
      "outputs": []
    },
    {
      "cell_type": "code",
      "source": [
        "# Train the model\n",
        "history = model.fit(train_images, train_labels, epochs=5, batch_size=64, validation_split=0.2)"
      ],
      "metadata": {
        "colab": {
          "base_uri": "https://localhost:8080/"
        },
        "id": "DEWLdKEKDfrI",
        "outputId": "07ed03d0-a956-4d6b-e038-2c684d096ba6"
      },
      "execution_count": 15,
      "outputs": [
        {
          "output_type": "stream",
          "name": "stdout",
          "text": [
            "Epoch 1/5\n",
            "750/750 [==============================] - 7s 5ms/step - loss: 0.2128 - accuracy: 0.9340 - val_loss: 0.1168 - val_accuracy: 0.9655\n",
            "Epoch 2/5\n",
            "750/750 [==============================] - 4s 5ms/step - loss: 0.0563 - accuracy: 0.9838 - val_loss: 0.0446 - val_accuracy: 0.9873\n",
            "Epoch 3/5\n",
            "750/750 [==============================] - 4s 5ms/step - loss: 0.0383 - accuracy: 0.9880 - val_loss: 0.0411 - val_accuracy: 0.9877\n",
            "Epoch 4/5\n",
            "750/750 [==============================] - 5s 6ms/step - loss: 0.0299 - accuracy: 0.9905 - val_loss: 0.0429 - val_accuracy: 0.9869\n",
            "Epoch 5/5\n",
            "750/750 [==============================] - 7s 9ms/step - loss: 0.0238 - accuracy: 0.9923 - val_loss: 0.0433 - val_accuracy: 0.9872\n"
          ]
        }
      ]
    },
    {
      "cell_type": "code",
      "source": [
        "# Evaluate the model\n",
        "test_loss, test_acc = model.evaluate(test_images, test_labels)\n",
        "print('Test accuracy:', test_acc)"
      ],
      "metadata": {
        "colab": {
          "base_uri": "https://localhost:8080/"
        },
        "id": "X1gTwyZyDlWX",
        "outputId": "4d5c353d-c37a-46a7-d115-30b026a95dbc"
      },
      "execution_count": 16,
      "outputs": [
        {
          "output_type": "stream",
          "name": "stdout",
          "text": [
            "313/313 [==============================] - 2s 5ms/step - loss: 0.0359 - accuracy: 0.9900\n",
            "Test accuracy: 0.9900000095367432\n"
          ]
        }
      ]
    },
    {
      "cell_type": "code",
      "source": [
        "import numpy as np\n",
        "import keras\n",
        "from keras.models import Sequential\n",
        "from keras.layers import Dense, Flatten\n",
        "from keras.datasets import mnist"
      ],
      "metadata": {
        "id": "NDxfRxi4Evno"
      },
      "execution_count": 17,
      "outputs": []
    },
    {
      "cell_type": "code",
      "source": [
        "# Load the MNIST dataset\n",
        "(train_images, train_labels), (test_images, test_labels) = mnist.load_data()"
      ],
      "metadata": {
        "id": "6RC4vFw-E5CW"
      },
      "execution_count": 18,
      "outputs": []
    },
    {
      "cell_type": "code",
      "source": [
        "# Preprocess the data\n",
        "train_images = train_images.reshape((60000, 28 * 28)).astype('float32') / 255\n",
        "test_images = test_images.reshape((10000, 28 * 28)).astype('float32') / 255"
      ],
      "metadata": {
        "id": "gD2M8_gkFAcC"
      },
      "execution_count": 19,
      "outputs": []
    },
    {
      "cell_type": "code",
      "source": [
        "# Convert labels to one-hot encoding\n",
        "train_labels = keras.utils.to_categorical(train_labels)\n",
        "test_labels = keras.utils.to_categorical(test_labels)"
      ],
      "metadata": {
        "id": "UQMjVCI2E-6i"
      },
      "execution_count": 20,
      "outputs": []
    },
    {
      "cell_type": "code",
      "source": [
        "# Build the neural network model\n",
        "model = Sequential([\n",
        "    Dense(512, activation='relu', input_shape=(28 * 28,)),\n",
        "    Dense(10, activation='softmax')\n",
        "])"
      ],
      "metadata": {
        "id": "IwNz6lPZFDQB"
      },
      "execution_count": 21,
      "outputs": []
    },
    {
      "cell_type": "code",
      "source": [
        "# Compile the model\n",
        "model.compile(optimizer='rmsprop',\n",
        "              loss='categorical_crossentropy',\n",
        "              metrics=['accuracy'])"
      ],
      "metadata": {
        "id": "I3Wr5aJ1FIj9"
      },
      "execution_count": 22,
      "outputs": []
    },
    {
      "cell_type": "code",
      "source": [
        "# Train the model\n",
        "history = model.fit(train_images, train_labels, epochs=5, batch_size=128, validation_split=0.2)"
      ],
      "metadata": {
        "colab": {
          "base_uri": "https://localhost:8080/"
        },
        "id": "RiqX6r4RFKuE",
        "outputId": "7eb83a0e-ef73-48aa-b027-c4617073a2c0"
      },
      "execution_count": 23,
      "outputs": [
        {
          "output_type": "stream",
          "name": "stdout",
          "text": [
            "Epoch 1/5\n",
            "375/375 [==============================] - 4s 7ms/step - loss: 0.2963 - accuracy: 0.9137 - val_loss: 0.1562 - val_accuracy: 0.9563\n",
            "Epoch 2/5\n",
            "375/375 [==============================] - 2s 6ms/step - loss: 0.1224 - accuracy: 0.9649 - val_loss: 0.1069 - val_accuracy: 0.9682\n",
            "Epoch 3/5\n",
            "375/375 [==============================] - 2s 6ms/step - loss: 0.0802 - accuracy: 0.9758 - val_loss: 0.0957 - val_accuracy: 0.9733\n",
            "Epoch 4/5\n",
            "375/375 [==============================] - 2s 5ms/step - loss: 0.0578 - accuracy: 0.9829 - val_loss: 0.0809 - val_accuracy: 0.9760\n",
            "Epoch 5/5\n",
            "375/375 [==============================] - 1s 4ms/step - loss: 0.0429 - accuracy: 0.9872 - val_loss: 0.0748 - val_accuracy: 0.9793\n"
          ]
        }
      ]
    },
    {
      "cell_type": "code",
      "source": [
        "# Evaluate the model\n",
        "test_loss, test_acc = model.evaluate(test_images, test_labels)\n",
        "print('Test accuracy:', test_acc)"
      ],
      "metadata": {
        "colab": {
          "base_uri": "https://localhost:8080/"
        },
        "id": "U6jTXb5FFM8L",
        "outputId": "f9ff30cd-6a72-4e2b-fdd8-b76236cc1264"
      },
      "execution_count": 24,
      "outputs": [
        {
          "output_type": "stream",
          "name": "stdout",
          "text": [
            "313/313 [==============================] - 2s 5ms/step - loss: 0.0688 - accuracy: 0.9788\n",
            "Test accuracy: 0.9787999987602234\n"
          ]
        }
      ]
    },
    {
      "cell_type": "code",
      "source": [],
      "metadata": {
        "id": "xxQDy98lFcQj"
      },
      "execution_count": null,
      "outputs": []
    }
  ]
}